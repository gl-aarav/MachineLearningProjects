{
 "cells": [
  {
   "cell_type": "code",
   "id": "e4d5b6b0-351b-437a-87dd-fb843fb85fb7",
   "metadata": {
    "ExecuteTime": {
     "end_time": "2025-06-19T17:30:54.396702Z",
     "start_time": "2025-06-19T17:30:54.383667Z"
    }
   },
   "source": [
    "print (\"akodpqiw-0e qwHello World\")\n",
    "print(\"\")"
   ],
   "outputs": [
    {
     "name": "stdout",
     "output_type": "stream",
     "text": [
      "Hello World\n",
      "\n"
     ]
    }
   ],
   "execution_count": 1
  },
  {
   "metadata": {},
   "cell_type": "code",
   "outputs": [],
   "execution_count": null,
   "source": "",
   "id": "c39ce06d68ddf4b9"
  }
 ],
 "metadata": {
  "kernelspec": {
   "display_name": "Python [conda env:base] *",
   "language": "python",
   "name": "conda-base-py"
  },
  "language_info": {
   "codemirror_mode": {
    "name": "ipython",
    "version": 3
   },
   "file_extension": ".py",
   "mimetype": "text/x-python",
   "name": "python",
   "nbconvert_exporter": "python",
   "pygments_lexer": "ipython3",
   "version": "3.12.7"
  }
 },
 "nbformat": 4,
 "nbformat_minor": 5
}
