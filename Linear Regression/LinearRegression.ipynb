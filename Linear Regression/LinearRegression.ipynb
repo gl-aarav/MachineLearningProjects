{
 "cells": [
  {
   "metadata": {},
   "cell_type": "markdown",
   "source": "Import the Libraries",
   "id": "5c284943b49ddded"
  },
  {
   "metadata": {
    "ExecuteTime": {
     "end_time": "2025-06-28T21:51:34.268577Z",
     "start_time": "2025-06-28T21:51:28.757156Z"
    }
   },
   "cell_type": "code",
   "source": [
    "import numpy as np\n",
    "import pandas as pd"
   ],
   "id": "192165554476d634",
   "outputs": [],
   "execution_count": 1
  },
  {
   "metadata": {},
   "cell_type": "code",
   "outputs": [],
   "execution_count": null,
   "source": [
    "import seaborn as sns\n",
    "import matplotlib.pyplot as plt\n",
    "import warnings\n",
    "warnings.filterwarnings(\"ignore\")"
   ],
   "id": "9d5b0540d0fe6b1a"
  }
 ],
 "metadata": {
  "kernelspec": {
   "display_name": "Python 3",
   "language": "python",
   "name": "python3"
  },
  "language_info": {
   "codemirror_mode": {
    "name": "ipython",
    "version": 2
   },
   "file_extension": ".py",
   "mimetype": "text/x-python",
   "name": "python",
   "nbconvert_exporter": "python",
   "pygments_lexer": "ipython2",
   "version": "2.7.6"
  }
 },
 "nbformat": 4,
 "nbformat_minor": 5
}
