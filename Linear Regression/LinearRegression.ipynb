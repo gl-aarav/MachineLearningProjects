{
 "cells": [
  {
   "metadata": {},
   "cell_type": "markdown",
   "source": "**Loading the Libraries**",
   "id": "b03f330933d7b4a0"
  },
  {
   "metadata": {
    "ExecuteTime": {
     "end_time": "2025-06-28T21:55:01.863865Z",
     "start_time": "2025-06-28T21:55:01.855993Z"
    }
   },
   "cell_type": "code",
   "source": [
    "import numpy as np\n",
    "import pandas as pd"
   ],
   "id": "192165554476d634",
   "outputs": [],
   "execution_count": 4
  },
  {
   "metadata": {
    "ExecuteTime": {
     "end_time": "2025-06-28T21:55:02.300448Z",
     "start_time": "2025-06-28T21:55:02.297113Z"
    }
   },
   "cell_type": "code",
   "source": [
    "import seaborn as sns\n",
    "import matplotlib.pyplot as plt\n",
    "import warnings\n",
    "warnings.filterwarnings(\"ignore\")"
   ],
   "id": "9d5b0540d0fe6b1a",
   "outputs": [],
   "execution_count": 5
  },
  {
   "metadata": {},
   "cell_type": "markdown",
   "source": "**Loading the Dataset**",
   "id": "f5b78b0bbc91d4e"
  },
  {
   "metadata": {},
   "cell_type": "code",
   "outputs": [],
   "execution_count": null,
   "source": "",
   "id": "f84824370d2f70cd"
  }
 ],
 "metadata": {
  "kernelspec": {
   "display_name": "Python 3",
   "language": "python",
   "name": "python3"
  },
  "language_info": {
   "codemirror_mode": {
    "name": "ipython",
    "version": 2
   },
   "file_extension": ".py",
   "mimetype": "text/x-python",
   "name": "python",
   "nbconvert_exporter": "python",
   "pygments_lexer": "ipython2",
   "version": "2.7.6"
  }
 },
 "nbformat": 4,
 "nbformat_minor": 5
}
