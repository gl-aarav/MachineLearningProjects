{
 "cells": [
  {
   "cell_type": "code",
   "id": "initial_id",
   "metadata": {
    "collapsed": true,
    "ExecuteTime": {
     "end_time": "2025-06-22T19:11:54.188450Z",
     "start_time": "2025-06-22T19:11:54.146063Z"
    }
   },
   "source": "import numpy as np",
   "outputs": [],
   "execution_count": 3
  },
  {
   "metadata": {
    "ExecuteTime": {
     "end_time": "2025-06-22T19:11:54.202118Z",
     "start_time": "2025-06-22T19:11:54.199713Z"
    }
   },
   "cell_type": "code",
   "source": [
    "#Create a 5x5 array\n",
    "array_aarav = np.array([[1,2,3,4,5],\n",
    "                       [6,7,8,10,11],\n",
    "                       [12,13,14,15,16],\n",
    "                       [17,18,19,20,21],\n",
    "                       [22,23,24,25,26]])"
   ],
   "id": "9fd4a403a1f046d6",
   "outputs": [],
   "execution_count": 4
  },
  {
   "metadata": {
    "ExecuteTime": {
     "end_time": "2025-06-22T19:11:54.214674Z",
     "start_time": "2025-06-22T19:11:54.212488Z"
    }
   },
   "cell_type": "code",
   "source": "print(array_aarav)",
   "id": "4588ab94fb297e9f",
   "outputs": [
    {
     "name": "stdout",
     "output_type": "stream",
     "text": [
      "[[ 1  2  3  4  5]\n",
      " [ 6  7  8 10 11]\n",
      " [12 13 14 15 16]\n",
      " [17 18 19 20 21]\n",
      " [22 23 24 25 26]]\n"
     ]
    }
   ],
   "execution_count": 5
  },
  {
   "metadata": {
    "ExecuteTime": {
     "end_time": "2025-06-22T19:11:54.232804Z",
     "start_time": "2025-06-22T19:11:54.230773Z"
    }
   },
   "cell_type": "code",
   "source": "print(array_aarav[4])",
   "id": "c4fd921a0d37dabf",
   "outputs": [
    {
     "name": "stdout",
     "output_type": "stream",
     "text": [
      "[22 23 24 25 26]\n"
     ]
    }
   ],
   "execution_count": 6
  },
  {
   "metadata": {
    "ExecuteTime": {
     "end_time": "2025-06-22T19:11:54.248647Z",
     "start_time": "2025-06-22T19:11:54.244420Z"
    }
   },
   "cell_type": "code",
   "source": "array_aarav[4,:]",
   "id": "fe84decf2ed70336",
   "outputs": [
    {
     "data": {
      "text/plain": [
       "array([22, 23, 24, 25, 26])"
      ]
     },
     "execution_count": 7,
     "metadata": {},
     "output_type": "execute_result"
    }
   ],
   "execution_count": 7
  },
  {
   "metadata": {
    "ExecuteTime": {
     "end_time": "2025-06-22T19:11:54.264556Z",
     "start_time": "2025-06-22T19:11:54.261763Z"
    }
   },
   "cell_type": "code",
   "source": "array_aarav[:,3]",
   "id": "5e5571e4f2a6ea2e",
   "outputs": [
    {
     "data": {
      "text/plain": [
       "array([ 4, 10, 15, 20, 25])"
      ]
     },
     "execution_count": 8,
     "metadata": {},
     "output_type": "execute_result"
    }
   ],
   "execution_count": 8
  },
  {
   "metadata": {
    "ExecuteTime": {
     "end_time": "2025-06-22T19:11:54.279574Z",
     "start_time": "2025-06-22T19:11:54.277245Z"
    }
   },
   "cell_type": "code",
   "source": [
    "#Array Slicing\n",
    "array_slicing = np.arange(10,41)"
   ],
   "id": "f7e50c60c87e94c",
   "outputs": [],
   "execution_count": 9
  },
  {
   "metadata": {
    "ExecuteTime": {
     "end_time": "2025-06-22T19:11:54.290324Z",
     "start_time": "2025-06-22T19:11:54.287294Z"
    }
   },
   "cell_type": "code",
   "source": "array_slicing",
   "id": "f41baabe2289394e",
   "outputs": [
    {
     "data": {
      "text/plain": [
       "array([10, 11, 12, 13, 14, 15, 16, 17, 18, 19, 20, 21, 22, 23, 24, 25, 26,\n",
       "       27, 28, 29, 30, 31, 32, 33, 34, 35, 36, 37, 38, 39, 40])"
      ]
     },
     "execution_count": 10,
     "metadata": {},
     "output_type": "execute_result"
    }
   ],
   "execution_count": 10
  },
  {
   "metadata": {
    "ExecuteTime": {
     "end_time": "2025-06-22T19:11:54.308324Z",
     "start_time": "2025-06-22T19:11:54.305471Z"
    }
   },
   "cell_type": "code",
   "source": "array_slicing[3::2]",
   "id": "bc75201c219c3f9f",
   "outputs": [
    {
     "data": {
      "text/plain": [
       "array([13, 15, 17, 19, 21, 23, 25, 27, 29, 31, 33, 35, 37, 39])"
      ]
     },
     "execution_count": 11,
     "metadata": {},
     "output_type": "execute_result"
    }
   ],
   "execution_count": 11
  },
  {
   "metadata": {
    "ExecuteTime": {
     "end_time": "2025-06-22T19:11:54.326851Z",
     "start_time": "2025-06-22T19:11:54.324941Z"
    }
   },
   "cell_type": "code",
   "source": [
    "#2D Array Slicing\n",
    "array_2d_slicing = np.arange(30).reshape(6,5)"
   ],
   "id": "ddd1c2945c8c4622",
   "outputs": [],
   "execution_count": 12
  },
  {
   "metadata": {
    "ExecuteTime": {
     "end_time": "2025-06-22T19:11:54.346060Z",
     "start_time": "2025-06-22T19:11:54.343564Z"
    }
   },
   "cell_type": "code",
   "source": "array_2d_slicing",
   "id": "1a248a49fc3c7b68",
   "outputs": [
    {
     "data": {
      "text/plain": [
       "array([[ 0,  1,  2,  3,  4],\n",
       "       [ 5,  6,  7,  8,  9],\n",
       "       [10, 11, 12, 13, 14],\n",
       "       [15, 16, 17, 18, 19],\n",
       "       [20, 21, 22, 23, 24],\n",
       "       [25, 26, 27, 28, 29]])"
      ]
     },
     "execution_count": 13,
     "metadata": {},
     "output_type": "execute_result"
    }
   ],
   "execution_count": 13
  },
  {
   "metadata": {
    "ExecuteTime": {
     "end_time": "2025-06-22T19:12:00.199154Z",
     "start_time": "2025-06-22T19:12:00.196330Z"
    }
   },
   "cell_type": "code",
   "source": "array_2d_slicing",
   "id": "6bdd0c71df0c22c7",
   "outputs": [
    {
     "data": {
      "text/plain": [
       "array([[ 0,  1,  2,  3,  4],\n",
       "       [ 5,  6,  7,  8,  9],\n",
       "       [10, 11, 12, 13, 14],\n",
       "       [15, 16, 17, 18, 19],\n",
       "       [20, 21, 22, 23, 24],\n",
       "       [25, 26, 27, 28, 29]])"
      ]
     },
     "execution_count": 16,
     "metadata": {},
     "output_type": "execute_result"
    }
   ],
   "execution_count": 16
  },
  {
   "metadata": {},
   "cell_type": "code",
   "outputs": [],
   "execution_count": null,
   "source": "",
   "id": "af44f2193b7e228d"
  }
 ],
 "metadata": {
  "kernelspec": {
   "display_name": "Python 3",
   "language": "python",
   "name": "python3"
  },
  "language_info": {
   "codemirror_mode": {
    "name": "ipython",
    "version": 2
   },
   "file_extension": ".py",
   "mimetype": "text/x-python",
   "name": "python",
   "nbconvert_exporter": "python",
   "pygments_lexer": "ipython2",
   "version": "2.7.6"
  }
 },
 "nbformat": 4,
 "nbformat_minor": 5
}
