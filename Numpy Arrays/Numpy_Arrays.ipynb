{
 "cells": [
  {
   "cell_type": "code",
   "id": "initial_id",
   "metadata": {
    "collapsed": true,
    "ExecuteTime": {
     "end_time": "2025-06-22T19:18:03.005792Z",
     "start_time": "2025-06-22T19:18:02.962899Z"
    }
   },
   "source": "import numpy as np",
   "outputs": [],
   "execution_count": 2
  },
  {
   "metadata": {
    "ExecuteTime": {
     "end_time": "2025-06-22T19:18:03.017321Z",
     "start_time": "2025-06-22T19:18:03.013258Z"
    }
   },
   "cell_type": "code",
   "source": [
    "#Create a 5x5 array\n",
    "array_aarav = np.array([[1,2,3,4,5],\n",
    "                       [6,7,8,10,11],\n",
    "                       [12,13,14,15,16],\n",
    "                       [17,18,19,20,21],\n",
    "                       [22,23,24,25,26]])"
   ],
   "id": "9fd4a403a1f046d6",
   "outputs": [],
   "execution_count": 3
  },
  {
   "metadata": {
    "ExecuteTime": {
     "end_time": "2025-06-22T19:18:03.039887Z",
     "start_time": "2025-06-22T19:18:03.037074Z"
    }
   },
   "cell_type": "code",
   "source": "print(array_aarav)",
   "id": "4588ab94fb297e9f",
   "outputs": [
    {
     "name": "stdout",
     "output_type": "stream",
     "text": [
      "[[ 1  2  3  4  5]\n",
      " [ 6  7  8 10 11]\n",
      " [12 13 14 15 16]\n",
      " [17 18 19 20 21]\n",
      " [22 23 24 25 26]]\n"
     ]
    }
   ],
   "execution_count": 4
  },
  {
   "metadata": {
    "ExecuteTime": {
     "end_time": "2025-06-22T19:18:03.059475Z",
     "start_time": "2025-06-22T19:18:03.056333Z"
    }
   },
   "cell_type": "code",
   "source": "print(array_aarav[4])",
   "id": "c4fd921a0d37dabf",
   "outputs": [
    {
     "name": "stdout",
     "output_type": "stream",
     "text": [
      "[22 23 24 25 26]\n"
     ]
    }
   ],
   "execution_count": 5
  },
  {
   "metadata": {
    "ExecuteTime": {
     "end_time": "2025-06-22T19:18:03.078920Z",
     "start_time": "2025-06-22T19:18:03.073354Z"
    }
   },
   "cell_type": "code",
   "source": "array_aarav[4,:]",
   "id": "fe84decf2ed70336",
   "outputs": [
    {
     "data": {
      "text/plain": [
       "array([22, 23, 24, 25, 26])"
      ]
     },
     "execution_count": 6,
     "metadata": {},
     "output_type": "execute_result"
    }
   ],
   "execution_count": 6
  },
  {
   "metadata": {
    "ExecuteTime": {
     "end_time": "2025-06-22T19:18:03.093400Z",
     "start_time": "2025-06-22T19:18:03.090391Z"
    }
   },
   "cell_type": "code",
   "source": "array_aarav[:,3]",
   "id": "5e5571e4f2a6ea2e",
   "outputs": [
    {
     "data": {
      "text/plain": [
       "array([ 4, 10, 15, 20, 25])"
      ]
     },
     "execution_count": 7,
     "metadata": {},
     "output_type": "execute_result"
    }
   ],
   "execution_count": 7
  },
  {
   "metadata": {},
   "cell_type": "code",
   "outputs": [],
   "execution_count": null,
   "source": "",
   "id": "c46b93acf277d46c"
  },
  {
   "metadata": {
    "ExecuteTime": {
     "end_time": "2025-06-22T19:18:03.104641Z",
     "start_time": "2025-06-22T19:18:03.102642Z"
    }
   },
   "cell_type": "code",
   "source": [
    "#Array Slicing\n",
    "array_slicing = np.arange(10,41)"
   ],
   "id": "f7e50c60c87e94c",
   "outputs": [],
   "execution_count": 8
  },
  {
   "metadata": {
    "ExecuteTime": {
     "end_time": "2025-06-22T19:18:03.121560Z",
     "start_time": "2025-06-22T19:18:03.117362Z"
    }
   },
   "cell_type": "code",
   "source": "array_slicing",
   "id": "f41baabe2289394e",
   "outputs": [
    {
     "data": {
      "text/plain": [
       "array([10, 11, 12, 13, 14, 15, 16, 17, 18, 19, 20, 21, 22, 23, 24, 25, 26,\n",
       "       27, 28, 29, 30, 31, 32, 33, 34, 35, 36, 37, 38, 39, 40])"
      ]
     },
     "execution_count": 9,
     "metadata": {},
     "output_type": "execute_result"
    }
   ],
   "execution_count": 9
  },
  {
   "metadata": {
    "ExecuteTime": {
     "end_time": "2025-06-22T19:18:03.147447Z",
     "start_time": "2025-06-22T19:18:03.144253Z"
    }
   },
   "cell_type": "code",
   "source": "array_slicing[3::2]",
   "id": "bc75201c219c3f9f",
   "outputs": [
    {
     "data": {
      "text/plain": [
       "array([13, 15, 17, 19, 21, 23, 25, 27, 29, 31, 33, 35, 37, 39])"
      ]
     },
     "execution_count": 10,
     "metadata": {},
     "output_type": "execute_result"
    }
   ],
   "execution_count": 10
  },
  {
   "metadata": {
    "ExecuteTime": {
     "end_time": "2025-06-22T19:18:03.186342Z",
     "start_time": "2025-06-22T19:18:03.184047Z"
    }
   },
   "cell_type": "code",
   "source": [
    "#2D Array Slicing\n",
    "array_2d_slicing = np.arange(30).reshape(6,5)"
   ],
   "id": "ddd1c2945c8c4622",
   "outputs": [],
   "execution_count": 11
  },
  {
   "metadata": {
    "ExecuteTime": {
     "end_time": "2025-06-22T19:18:03.199840Z",
     "start_time": "2025-06-22T19:18:03.196066Z"
    }
   },
   "cell_type": "code",
   "source": "array_2d_slicing",
   "id": "1a248a49fc3c7b68",
   "outputs": [
    {
     "data": {
      "text/plain": [
       "array([[ 0,  1,  2,  3,  4],\n",
       "       [ 5,  6,  7,  8,  9],\n",
       "       [10, 11, 12, 13, 14],\n",
       "       [15, 16, 17, 18, 19],\n",
       "       [20, 21, 22, 23, 24],\n",
       "       [25, 26, 27, 28, 29]])"
      ]
     },
     "execution_count": 12,
     "metadata": {},
     "output_type": "execute_result"
    }
   ],
   "execution_count": 12
  },
  {
   "metadata": {
    "ExecuteTime": {
     "end_time": "2025-06-22T19:31:04.915330Z",
     "start_time": "2025-06-22T19:31:04.910219Z"
    }
   },
   "cell_type": "code",
   "source": "array_2d_slicing[0:2]",
   "id": "6bdd0c71df0c22c7",
   "outputs": [
    {
     "data": {
      "text/plain": [
       "array([[0, 1, 2, 3, 4],\n",
       "       [5, 6, 7, 8, 9]])"
      ]
     },
     "execution_count": 66,
     "metadata": {},
     "output_type": "execute_result"
    }
   ],
   "execution_count": 66
  },
  {
   "metadata": {
    "ExecuteTime": {
     "end_time": "2025-06-22T19:31:05.228094Z",
     "start_time": "2025-06-22T19:31:05.226398Z"
    }
   },
   "cell_type": "code",
   "source": "",
   "id": "a755b826e8a11d10",
   "outputs": [],
   "execution_count": null
  },
  {
   "metadata": {
    "ExecuteTime": {
     "end_time": "2025-06-22T19:31:05.987176Z",
     "start_time": "2025-06-22T19:31:05.983447Z"
    }
   },
   "cell_type": "code",
   "source": [
    "#array operators\n",
    "array_operators = np.arange(1,20)"
   ],
   "id": "af44f2193b7e228d",
   "outputs": [],
   "execution_count": 67
  },
  {
   "metadata": {
    "ExecuteTime": {
     "end_time": "2025-06-22T19:31:35.856644Z",
     "start_time": "2025-06-22T19:31:35.851775Z"
    }
   },
   "cell_type": "code",
   "source": "array_operators",
   "id": "84296294ffe8c17e",
   "outputs": [
    {
     "data": {
      "text/plain": [
       "array([ 1,  2,  3,  4,  5,  6,  7,  8,  9, 10, 11, 12, 13, 14, 15, 16, 17,\n",
       "       18, 19])"
      ]
     },
     "execution_count": 71,
     "metadata": {},
     "output_type": "execute_result"
    }
   ],
   "execution_count": 71
  },
  {
   "metadata": {
    "ExecuteTime": {
     "end_time": "2025-06-22T19:31:36.308738Z",
     "start_time": "2025-06-22T19:31:36.303138Z"
    }
   },
   "cell_type": "code",
   "source": "array_operators[(array_operators <=6) & (array_operators >= 4)]",
   "id": "c8920a2ef303f65a",
   "outputs": [
    {
     "data": {
      "text/plain": [
       "array([4, 5, 6])"
      ]
     },
     "execution_count": 72,
     "metadata": {},
     "output_type": "execute_result"
    }
   ],
   "execution_count": 72
  },
  {
   "metadata": {
    "ExecuteTime": {
     "end_time": "2025-06-22T19:31:07.967858Z",
     "start_time": "2025-06-22T19:31:07.965811Z"
    }
   },
   "cell_type": "code",
   "source": "",
   "id": "1c6e282e1ea5c057",
   "outputs": [],
   "execution_count": null
  }
 ],
 "metadata": {
  "kernelspec": {
   "display_name": "Python 3",
   "language": "python",
   "name": "python3"
  },
  "language_info": {
   "codemirror_mode": {
    "name": "ipython",
    "version": 2
   },
   "file_extension": ".py",
   "mimetype": "text/x-python",
   "name": "python",
   "nbconvert_exporter": "python",
   "pygments_lexer": "ipython2",
   "version": "2.7.6"
  }
 },
 "nbformat": 4,
 "nbformat_minor": 5
}
