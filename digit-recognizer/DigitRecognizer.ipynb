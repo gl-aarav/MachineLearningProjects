{
 "cells": [
  {
   "cell_type": "code",
   "id": "e4d5b6b0-351b-437a-87dd-fb843fb85fb7",
   "metadata": {
    "ExecuteTime": {
     "end_time": "2025-06-19T17:54:02.674337Z",
     "start_time": "2025-06-19T17:54:02.667965Z"
    }
   },
   "source": [
    "import numpy as np # linear algebra\n",
    "import pandas as pd # data processing, CSV file I/O (e.g. pd.read_csv)\n",
    "\n",
    "# Input data files are available in the read-only \"../input/\" directory\n",
    "# For example, running this (by clicking run or pressing Shift+Enter) will list all files under the input directory\n",
    "\n",
    "import os\n",
    "for dirname, _, filenames in os.walk('/Users/aaravgoyal/Downloads/GitHub/MachineLearningProjects/digit-recognizer'):\n",
    "    for filename in filenames:\n",
    "        print(os.path.join(dirname, filename))\n"
   ],
   "outputs": [
    {
     "name": "stdout",
     "output_type": "stream",
     "text": [
      "/Users/aaravgoyal/Downloads/GitHub/MachineLearningProjects/digit-recognizer/test.csv\n",
      "/Users/aaravgoyal/Downloads/GitHub/MachineLearningProjects/digit-recognizer/DigitRecognizer.ipynb\n",
      "/Users/aaravgoyal/Downloads/GitHub/MachineLearningProjects/digit-recognizer/train.csv\n",
      "/Users/aaravgoyal/Downloads/GitHub/MachineLearningProjects/digit-recognizer/sample_submission.csv\n"
     ]
    }
   ],
   "execution_count": 7
  },
  {
   "metadata": {
    "ExecuteTime": {
     "end_time": "2025-06-19T17:53:10.505083Z",
     "start_time": "2025-06-19T17:53:10.501860Z"
    }
   },
   "cell_type": "code",
   "source": "",
   "id": "af1e736ab987f54",
   "outputs": [],
   "execution_count": null
  }
 ],
 "metadata": {
  "kernelspec": {
   "display_name": "Python [conda env:base] *",
   "language": "python",
   "name": "conda-base-py"
  },
  "language_info": {
   "codemirror_mode": {
    "name": "ipython",
    "version": 3
   },
   "file_extension": ".py",
   "mimetype": "text/x-python",
   "name": "python",
   "nbconvert_exporter": "python",
   "pygments_lexer": "ipython3",
   "version": "3.12.7"
  }
 },
 "nbformat": 4,
 "nbformat_minor": 5
}
