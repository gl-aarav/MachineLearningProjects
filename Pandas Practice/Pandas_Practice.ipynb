{
 "cells": [
  {
   "cell_type": "code",
   "id": "initial_id",
   "metadata": {
    "ExecuteTime": {
     "end_time": "2025-06-22T22:36:13.836297Z",
     "start_time": "2025-06-22T22:36:13.831154Z"
    }
   },
   "source": "import pandas as pd",
   "outputs": [],
   "execution_count": 5
  },
  {
   "metadata": {},
   "cell_type": "code",
   "outputs": [],
   "execution_count": null,
   "source": "## Understanding Series",
   "id": "442397c7dc8dd453"
  },
  {
   "cell_type": "code",
   "id": "d1e8f60c3edcefbe",
   "metadata": {
    "ExecuteTime": {
     "end_time": "2025-06-22T22:34:13.032293Z",
     "start_time": "2025-06-22T22:34:13.025552Z"
    }
   },
   "source": [
    "pd.Series([10, 20, 30, 40, 50])"
   ],
   "outputs": [
    {
     "data": {
      "text/plain": [
       "0    10\n",
       "1    20\n",
       "2    30\n",
       "3    40\n",
       "4    50\n",
       "dtype: int64"
      ]
     },
     "execution_count": 2,
     "metadata": {},
     "output_type": "execute_result"
    }
   ],
   "execution_count": 2
  },
  {
   "cell_type": "code",
   "id": "6a51c3ee6218b71f",
   "metadata": {
    "ExecuteTime": {
     "end_time": "2025-06-22T22:34:13.122735Z",
     "start_time": "2025-06-22T22:34:13.120989Z"
    }
   },
   "source": [
    "list_data = [1, 20, 30, 40, 50]\n",
    "list_index = [\"a\", \"b\", \"c\", \"d\", \"e\"]"
   ],
   "outputs": [],
   "execution_count": 3
  },
  {
   "metadata": {
    "ExecuteTime": {
     "end_time": "2025-06-22T22:55:04.663084Z",
     "start_time": "2025-06-22T22:55:04.654149Z"
    }
   },
   "cell_type": "code",
   "source": [
    "variable = pd.Series(data = list_data, index = list_index)\n",
    "type(variable)"
   ],
   "id": "97df43caff9f61a3",
   "outputs": [
    {
     "data": {
      "text/plain": [
       "pandas.core.series.Series"
      ]
     },
     "execution_count": 30,
     "metadata": {},
     "output_type": "execute_result"
    }
   ],
   "execution_count": 30
  },
  {
   "metadata": {
    "ExecuteTime": {
     "end_time": "2025-06-22T22:55:05.353904Z",
     "start_time": "2025-06-22T22:55:05.349964Z"
    }
   },
   "cell_type": "code",
   "source": "## Understanding Dictionaries",
   "id": "cfd413e06a665373",
   "outputs": [],
   "execution_count": 31
  },
  {
   "metadata": {
    "ExecuteTime": {
     "end_time": "2025-06-22T22:55:05.844594Z",
     "start_time": "2025-06-22T22:55:05.842137Z"
    }
   },
   "cell_type": "code",
   "source": "dictionary = {\"ferrari\" : 334.7, \"porsche\" : 337.9, \"lamborghini\" : 349}",
   "id": "5097e9e62f312e4c",
   "outputs": [],
   "execution_count": 32
  },
  {
   "metadata": {
    "ExecuteTime": {
     "end_time": "2025-06-22T22:55:05.882577Z",
     "start_time": "2025-06-22T22:55:05.877325Z"
    }
   },
   "cell_type": "code",
   "source": "pd.Series(data = dictionary)",
   "id": "854564c67dd78f84",
   "outputs": [
    {
     "data": {
      "text/plain": [
       "ferrari        334.7\n",
       "porsche        337.9\n",
       "lamborghini    349.0\n",
       "dtype: float64"
      ]
     },
     "execution_count": 33,
     "metadata": {},
     "output_type": "execute_result"
    }
   ],
   "execution_count": 33
  },
  {
   "metadata": {
    "ExecuteTime": {
     "end_time": "2025-06-22T22:55:05.924262Z",
     "start_time": "2025-06-22T22:55:05.919911Z"
    }
   },
   "cell_type": "code",
   "source": [
    "variable = pd.Series(data = dictionary, index = [\"porsche\", \"bugatti\", \"ferrari\"])\n",
    "variable"
   ],
   "id": "670e7691f5d4ee17",
   "outputs": [
    {
     "data": {
      "text/plain": [
       "porsche    337.9\n",
       "bugatti      NaN\n",
       "ferrari    334.7\n",
       "dtype: float64"
      ]
     },
     "execution_count": 34,
     "metadata": {},
     "output_type": "execute_result"
    }
   ],
   "execution_count": 34
  },
  {
   "metadata": {
    "ExecuteTime": {
     "end_time": "2025-06-22T22:55:05.976931Z",
     "start_time": "2025-06-22T22:55:05.975431Z"
    }
   },
   "cell_type": "code",
   "source": "## Using numpy with pandas",
   "id": "e55f88223f63a605",
   "outputs": [],
   "execution_count": 35
  },
  {
   "metadata": {
    "ExecuteTime": {
     "end_time": "2025-06-22T22:55:06.021054Z",
     "start_time": "2025-06-22T22:55:06.018712Z"
    }
   },
   "cell_type": "code",
   "source": "import numpy as np",
   "id": "6dbe79d3dd067860",
   "outputs": [],
   "execution_count": 36
  },
  {
   "metadata": {
    "ExecuteTime": {
     "end_time": "2025-06-22T22:55:06.056243Z",
     "start_time": "2025-06-22T22:55:06.053925Z"
    }
   },
   "cell_type": "code",
   "source": [
    "example = np.array([1, 3.3, 5, 7.2, 9])\n",
    "labels = [\"a\", \"b\", \"c\", \"d\", \"e\"]"
   ],
   "id": "9d0d70266e9de1a2",
   "outputs": [],
   "execution_count": 37
  },
  {
   "metadata": {
    "ExecuteTime": {
     "end_time": "2025-06-22T22:55:06.068452Z",
     "start_time": "2025-06-22T22:55:06.065850Z"
    }
   },
   "cell_type": "code",
   "source": [
    "variable = pd.Series(data = example, index = labels)\n",
    "variable"
   ],
   "id": "28d8be980f26b540",
   "outputs": [
    {
     "data": {
      "text/plain": [
       "a    1.0\n",
       "b    3.3\n",
       "c    5.0\n",
       "d    7.2\n",
       "e    9.0\n",
       "dtype: float64"
      ]
     },
     "execution_count": 38,
     "metadata": {},
     "output_type": "execute_result"
    }
   ],
   "execution_count": 38
  },
  {
   "metadata": {
    "ExecuteTime": {
     "end_time": "2025-06-22T22:55:06.103847Z",
     "start_time": "2025-06-22T22:55:06.101816Z"
    }
   },
   "cell_type": "code",
   "source": "##Object Types",
   "id": "d490cf8a95b4fcaa",
   "outputs": [],
   "execution_count": 39
  },
  {
   "metadata": {
    "ExecuteTime": {
     "end_time": "2025-06-22T22:55:06.134272Z",
     "start_time": "2025-06-22T22:55:06.131329Z"
    }
   },
   "cell_type": "code",
   "source": "pd.Series([\"World\", 100, 5.7, False])",
   "id": "5d278cc87fa8b40e",
   "outputs": [
    {
     "data": {
      "text/plain": [
       "0    World\n",
       "1      100\n",
       "2      5.7\n",
       "3    False\n",
       "dtype: object"
      ]
     },
     "execution_count": 40,
     "metadata": {},
     "output_type": "execute_result"
    }
   ],
   "execution_count": 40
  },
  {
   "metadata": {
    "ExecuteTime": {
     "end_time": "2025-06-22T22:55:06.200263Z",
     "start_time": "2025-06-22T22:55:06.197663Z"
    }
   },
   "cell_type": "code",
   "source": [
    "example = pd.Series([\"World\", 100, 5.7, False])\n",
    "example[0]"
   ],
   "id": "6a5258899d27c536",
   "outputs": [
    {
     "data": {
      "text/plain": [
       "'World'"
      ]
     },
     "execution_count": 41,
     "metadata": {},
     "output_type": "execute_result"
    }
   ],
   "execution_count": 41
  },
  {
   "metadata": {
    "ExecuteTime": {
     "end_time": "2025-06-22T22:55:06.304403Z",
     "start_time": "2025-06-22T22:55:06.302191Z"
    }
   },
   "cell_type": "code",
   "source": [
    "print(type(example[0]))\n",
    "print(type(example[1]))\n",
    "print(type(example[2]))\n",
    "print(type(example[3]))"
   ],
   "id": "e71441be2d180c36",
   "outputs": [
    {
     "name": "stdout",
     "output_type": "stream",
     "text": [
      "<class 'str'>\n",
      "<class 'int'>\n",
      "<class 'float'>\n",
      "<class 'bool'>\n"
     ]
    }
   ],
   "execution_count": 42
  },
  {
   "metadata": {
    "ExecuteTime": {
     "end_time": "2025-06-22T22:55:06.321146Z",
     "start_time": "2025-06-22T22:55:06.318036Z"
    }
   },
   "cell_type": "code",
   "source": "pd.Series([sum, type,max])",
   "id": "3bf65303fcdbe2b0",
   "outputs": [
    {
     "data": {
      "text/plain": [
       "0    <built-in function sum>\n",
       "1             <class 'type'>\n",
       "2    <built-in function max>\n",
       "dtype: object"
      ]
     },
     "execution_count": 43,
     "metadata": {},
     "output_type": "execute_result"
    }
   ],
   "execution_count": 43
  },
  {
   "metadata": {
    "ExecuteTime": {
     "end_time": "2025-06-22T22:57:11.590639Z",
     "start_time": "2025-06-22T22:57:11.587467Z"
    }
   },
   "cell_type": "code",
   "source": "## Most Important Methods",
   "id": "3f7a8d64df18a7b0",
   "outputs": [],
   "execution_count": null
  },
  {
   "metadata": {
    "ExecuteTime": {
     "end_time": "2025-06-22T22:58:52.506579Z",
     "start_time": "2025-06-22T22:58:52.501539Z"
    }
   },
   "cell_type": "code",
   "source": "variable = pd.Series([8, 3, 6, 5, 1], index = [\"b\", \"d\", \"c\", \"a\", \"e\"])",
   "id": "6c8538aa655cd244",
   "outputs": [],
   "execution_count": 46
  },
  {
   "metadata": {
    "ExecuteTime": {
     "end_time": "2025-06-22T22:59:39.897183Z",
     "start_time": "2025-06-22T22:59:39.889654Z"
    }
   },
   "cell_type": "code",
   "source": [
    "new_variable = variable.sort_index() ## Sort by index\n",
    "new_variable"
   ],
   "id": "96bf80c2f5fdc209",
   "outputs": [
    {
     "data": {
      "text/plain": [
       "e    1\n",
       "d    3\n",
       "a    5\n",
       "c    6\n",
       "b    8\n",
       "dtype: int64"
      ]
     },
     "execution_count": 49,
     "metadata": {},
     "output_type": "execute_result"
    }
   ],
   "execution_count": 49
  },
  {
   "metadata": {
    "ExecuteTime": {
     "end_time": "2025-06-22T23:00:13.464215Z",
     "start_time": "2025-06-22T23:00:13.454456Z"
    }
   },
   "cell_type": "code",
   "source": [
    "new_variable = variable.sort_values() ## Sort by values\n",
    "new_variable"
   ],
   "id": "c75818bfb5b2ad52",
   "outputs": [
    {
     "data": {
      "text/plain": [
       "e    1\n",
       "d    3\n",
       "a    5\n",
       "c    6\n",
       "b    8\n",
       "dtype: int64"
      ]
     },
     "execution_count": 50,
     "metadata": {},
     "output_type": "execute_result"
    }
   ],
   "execution_count": 50
  },
  {
   "metadata": {
    "ExecuteTime": {
     "end_time": "2025-06-22T23:00:27.784048Z",
     "start_time": "2025-06-22T23:00:27.780296Z"
    }
   },
   "cell_type": "code",
   "source": "variable.isin([6,1])",
   "id": "da7a85ee977c0cdc",
   "outputs": [
    {
     "data": {
      "text/plain": [
       "b    False\n",
       "d    False\n",
       "c     True\n",
       "a    False\n",
       "e     True\n",
       "dtype: bool"
      ]
     },
     "execution_count": 51,
     "metadata": {},
     "output_type": "execute_result"
    }
   ],
   "execution_count": 51
  },
  {
   "metadata": {
    "ExecuteTime": {
     "end_time": "2025-06-22T23:02:38.038277Z",
     "start_time": "2025-06-22T23:02:38.032451Z"
    }
   },
   "cell_type": "code",
   "source": "variable[variable.isin([6,1])]",
   "id": "99bf0866164bf8ba",
   "outputs": [
    {
     "data": {
      "text/plain": [
       "c    6\n",
       "e    1\n",
       "dtype: int64"
      ]
     },
     "execution_count": 53,
     "metadata": {},
     "output_type": "execute_result"
    }
   ],
   "execution_count": 53
  },
  {
   "metadata": {
    "ExecuteTime": {
     "end_time": "2025-06-22T23:03:03.627159Z",
     "start_time": "2025-06-22T23:03:03.622202Z"
    }
   },
   "cell_type": "code",
   "source": "variable.values",
   "id": "be874918cfbb7828",
   "outputs": [
    {
     "data": {
      "text/plain": [
       "array([8, 3, 6, 5, 1])"
      ]
     },
     "execution_count": 56,
     "metadata": {},
     "output_type": "execute_result"
    }
   ],
   "execution_count": 56
  },
  {
   "metadata": {
    "ExecuteTime": {
     "end_time": "2025-06-22T23:04:08.433656Z",
     "start_time": "2025-06-22T23:04:08.428859Z"
    }
   },
   "cell_type": "code",
   "source": "[i for i in variable.values]",
   "id": "7c8cf42601d84dfe",
   "outputs": [
    {
     "data": {
      "text/plain": [
       "[np.int64(8), np.int64(3), np.int64(6), np.int64(5), np.int64(1)]"
      ]
     },
     "execution_count": 58,
     "metadata": {},
     "output_type": "execute_result"
    }
   ],
   "execution_count": 58
  },
  {
   "metadata": {
    "ExecuteTime": {
     "end_time": "2025-06-22T23:04:09.111080Z",
     "start_time": "2025-06-22T23:04:09.108550Z"
    }
   },
   "cell_type": "code",
   "source": "",
   "id": "e7bd860a1fcfae3b",
   "outputs": [],
   "execution_count": null
  }
 ],
 "metadata": {
  "kernelspec": {
   "display_name": "Python [conda env:base] *",
   "language": "python",
   "name": "conda-base-py"
  },
  "language_info": {
   "codemirror_mode": {
    "name": "ipython",
    "version": 3
   },
   "file_extension": ".py",
   "mimetype": "text/x-python",
   "name": "python",
   "nbconvert_exporter": "python",
   "pygments_lexer": "ipython3",
   "version": "3.12.7"
  }
 },
 "nbformat": 4,
 "nbformat_minor": 5
}
